{
  "nbformat": 4,
  "nbformat_minor": 0,
  "metadata": {
    "colab": {
      "name": "Sigmoid Kernel based Recommender System.ipynb",
      "provenance": [],
      "collapsed_sections": [
        "o8V0VO9zueVr",
        "vdnjK_sw-ds1",
        "-JAWOuYMXQlu",
        "sR_Akvu6afNE",
        "weKiCshj-oUq"
      ],
      "mount_file_id": "1WHPMD8ZHOMkdtP3_3e2d63Hqvvhy7lKr",
      "authorship_tag": "ABX9TyNjfwuJWS8PdltOcAVwmG7L",
      "include_colab_link": true
    },
    "kernelspec": {
      "name": "python3",
      "display_name": "Python 3"
    },
    "accelerator": "GPU"
  },
  "cells": [
    {
      "cell_type": "markdown",
      "metadata": {
        "id": "view-in-github",
        "colab_type": "text"
      },
      "source": [
        "<a href=\"https://colab.research.google.com/github/animesharma3/Movie-Recommendation/blob/main/Sigmoid_Kernel_based_Recommender_System.ipynb\" target=\"_parent\"><img src=\"https://colab.research.google.com/assets/colab-badge.svg\" alt=\"Open In Colab\"/></a>"
      ]
    },
    {
      "cell_type": "markdown",
      "metadata": {
        "id": "o8V0VO9zueVr"
      },
      "source": [
        "## Importing necessary libraries"
      ]
    },
    {
      "cell_type": "code",
      "metadata": {
        "id": "28vb6gFdf0zw"
      },
      "source": [
        "import pandas as pd\r\n",
        "from sklearn.feature_extraction.text import TfidfVectorizer\r\n",
        "from sklearn.metrics.pairwise import sigmoid_kernel\r\n",
        "\r\n",
        "import pickle"
      ],
      "execution_count": null,
      "outputs": []
    },
    {
      "cell_type": "markdown",
      "metadata": {
        "id": "vdnjK_sw-ds1"
      },
      "source": [
        "## Loading Dataset"
      ]
    },
    {
      "cell_type": "code",
      "metadata": {
        "id": "QzabUmFef5Dd",
        "colab": {
          "base_uri": "https://localhost:8080/",
          "height": 629
        },
        "outputId": "0b7ee0e8-80b0-4957-864b-9f45d3e081ef"
      },
      "source": [
        "url = 'https://raw.githubusercontent.com/animesharma3/Movie-Recommendation/main/movies_dataset.csv'\r\n",
        "df = pd.read_csv(url)[:5001]\r\n",
        "df.head()"
      ],
      "execution_count": null,
      "outputs": [
        {
          "output_type": "execute_result",
          "data": {
            "text/html": [
              "<div>\n",
              "<style scoped>\n",
              "    .dataframe tbody tr th:only-of-type {\n",
              "        vertical-align: middle;\n",
              "    }\n",
              "\n",
              "    .dataframe tbody tr th {\n",
              "        vertical-align: top;\n",
              "    }\n",
              "\n",
              "    .dataframe thead th {\n",
              "        text-align: right;\n",
              "    }\n",
              "</style>\n",
              "<table border=\"1\" class=\"dataframe\">\n",
              "  <thead>\n",
              "    <tr style=\"text-align: right;\">\n",
              "      <th></th>\n",
              "      <th>Unnamed: 0</th>\n",
              "      <th>Unnamed: 0.1</th>\n",
              "      <th>budget</th>\n",
              "      <th>genres</th>\n",
              "      <th>id</th>\n",
              "      <th>imdb_id</th>\n",
              "      <th>original_language</th>\n",
              "      <th>original_title</th>\n",
              "      <th>overview</th>\n",
              "      <th>popularity</th>\n",
              "      <th>production_companies</th>\n",
              "      <th>production_countries</th>\n",
              "      <th>release_date</th>\n",
              "      <th>revenue</th>\n",
              "      <th>runtime</th>\n",
              "      <th>spoken_languages</th>\n",
              "      <th>status</th>\n",
              "      <th>tagline</th>\n",
              "      <th>title</th>\n",
              "      <th>vote_average</th>\n",
              "      <th>vote_count</th>\n",
              "    </tr>\n",
              "  </thead>\n",
              "  <tbody>\n",
              "    <tr>\n",
              "      <th>0</th>\n",
              "      <td>0</td>\n",
              "      <td>15480</td>\n",
              "      <td>160000000</td>\n",
              "      <td>[{'id': 28, 'name': 'Action'}, {'id': 53, 'nam...</td>\n",
              "      <td>27205</td>\n",
              "      <td>tt1375666</td>\n",
              "      <td>en</td>\n",
              "      <td>Inception</td>\n",
              "      <td>Cobb, a skilled thief who commits corporate es...</td>\n",
              "      <td>29.108149</td>\n",
              "      <td>[{'name': 'Legendary Pictures', 'id': 923}, {'...</td>\n",
              "      <td>[{'iso_3166_1': 'GB', 'name': 'United Kingdom'...</td>\n",
              "      <td>2010-07-14</td>\n",
              "      <td>8.255328e+08</td>\n",
              "      <td>148.0</td>\n",
              "      <td>[{'iso_639_1': 'en', 'name': 'English'}]</td>\n",
              "      <td>Released</td>\n",
              "      <td>Your mind is the scene of the crime.</td>\n",
              "      <td>Inception</td>\n",
              "      <td>8.1</td>\n",
              "      <td>14075.0</td>\n",
              "    </tr>\n",
              "    <tr>\n",
              "      <th>1</th>\n",
              "      <td>1</td>\n",
              "      <td>12481</td>\n",
              "      <td>185000000</td>\n",
              "      <td>[{'id': 18, 'name': 'Drama'}, {'id': 28, 'name...</td>\n",
              "      <td>155</td>\n",
              "      <td>tt0468569</td>\n",
              "      <td>en</td>\n",
              "      <td>The Dark Knight</td>\n",
              "      <td>Batman raises the stakes in his war on crime. ...</td>\n",
              "      <td>123.167259</td>\n",
              "      <td>[{'name': 'DC Comics', 'id': 429}, {'name': 'L...</td>\n",
              "      <td>[{'iso_3166_1': 'GB', 'name': 'United Kingdom'...</td>\n",
              "      <td>2008-07-16</td>\n",
              "      <td>1.004558e+09</td>\n",
              "      <td>152.0</td>\n",
              "      <td>[{'iso_639_1': 'en', 'name': 'English'}, {'iso...</td>\n",
              "      <td>Released</td>\n",
              "      <td>Why So Serious?</td>\n",
              "      <td>The Dark Knight</td>\n",
              "      <td>8.3</td>\n",
              "      <td>12269.0</td>\n",
              "    </tr>\n",
              "    <tr>\n",
              "      <th>2</th>\n",
              "      <td>2</td>\n",
              "      <td>14551</td>\n",
              "      <td>237000000</td>\n",
              "      <td>[{'id': 28, 'name': 'Action'}, {'id': 12, 'nam...</td>\n",
              "      <td>19995</td>\n",
              "      <td>tt0499549</td>\n",
              "      <td>en</td>\n",
              "      <td>Avatar</td>\n",
              "      <td>In the 22nd century, a paraplegic Marine is di...</td>\n",
              "      <td>185.070892</td>\n",
              "      <td>[{'name': 'Ingenious Film Partners', 'id': 289...</td>\n",
              "      <td>[{'iso_3166_1': 'US', 'name': 'United States o...</td>\n",
              "      <td>2009-12-10</td>\n",
              "      <td>2.787965e+09</td>\n",
              "      <td>162.0</td>\n",
              "      <td>[{'iso_639_1': 'en', 'name': 'English'}, {'iso...</td>\n",
              "      <td>Released</td>\n",
              "      <td>Enter the World of Pandora.</td>\n",
              "      <td>Avatar</td>\n",
              "      <td>7.2</td>\n",
              "      <td>12114.0</td>\n",
              "    </tr>\n",
              "    <tr>\n",
              "      <th>3</th>\n",
              "      <td>3</td>\n",
              "      <td>17818</td>\n",
              "      <td>220000000</td>\n",
              "      <td>[{'id': 878, 'name': 'Science Fiction'}, {'id'...</td>\n",
              "      <td>24428</td>\n",
              "      <td>tt0848228</td>\n",
              "      <td>en</td>\n",
              "      <td>The Avengers</td>\n",
              "      <td>When an unexpected enemy emerges and threatens...</td>\n",
              "      <td>89.887648</td>\n",
              "      <td>[{'name': 'Paramount Pictures', 'id': 4}, {'na...</td>\n",
              "      <td>[{'iso_3166_1': 'US', 'name': 'United States o...</td>\n",
              "      <td>2012-04-25</td>\n",
              "      <td>1.519558e+09</td>\n",
              "      <td>143.0</td>\n",
              "      <td>[{'iso_639_1': 'en', 'name': 'English'}]</td>\n",
              "      <td>Released</td>\n",
              "      <td>Some assembly required.</td>\n",
              "      <td>The Avengers</td>\n",
              "      <td>7.4</td>\n",
              "      <td>12000.0</td>\n",
              "    </tr>\n",
              "    <tr>\n",
              "      <th>4</th>\n",
              "      <td>4</td>\n",
              "      <td>26564</td>\n",
              "      <td>58000000</td>\n",
              "      <td>[{'id': 28, 'name': 'Action'}, {'id': 12, 'nam...</td>\n",
              "      <td>293660</td>\n",
              "      <td>tt1431045</td>\n",
              "      <td>en</td>\n",
              "      <td>Deadpool</td>\n",
              "      <td>Deadpool tells the origin story of former Spec...</td>\n",
              "      <td>187.860492</td>\n",
              "      <td>[{'name': 'Twentieth Century Fox Film Corporat...</td>\n",
              "      <td>[{'iso_3166_1': 'US', 'name': 'United States o...</td>\n",
              "      <td>2016-02-09</td>\n",
              "      <td>7.831130e+08</td>\n",
              "      <td>108.0</td>\n",
              "      <td>[{'iso_639_1': 'en', 'name': 'English'}]</td>\n",
              "      <td>Released</td>\n",
              "      <td>Witness the beginning of a happy ending</td>\n",
              "      <td>Deadpool</td>\n",
              "      <td>7.4</td>\n",
              "      <td>11444.0</td>\n",
              "    </tr>\n",
              "  </tbody>\n",
              "</table>\n",
              "</div>"
            ],
            "text/plain": [
              "   Unnamed: 0  Unnamed: 0.1  ...  vote_average vote_count\n",
              "0           0         15480  ...           8.1    14075.0\n",
              "1           1         12481  ...           8.3    12269.0\n",
              "2           2         14551  ...           7.2    12114.0\n",
              "3           3         17818  ...           7.4    12000.0\n",
              "4           4         26564  ...           7.4    11444.0\n",
              "\n",
              "[5 rows x 21 columns]"
            ]
          },
          "metadata": {
            "tags": []
          },
          "execution_count": 3
        }
      ]
    },
    {
      "cell_type": "markdown",
      "metadata": {
        "id": "-JAWOuYMXQlu"
      },
      "source": [
        "## Delete unnecessary Columns"
      ]
    },
    {
      "cell_type": "code",
      "metadata": {
        "id": "mPGDm1AnXAFf"
      },
      "source": [
        "df.drop(df.columns[:2].values.tolist(), axis=1, inplace=True)"
      ],
      "execution_count": null,
      "outputs": []
    },
    {
      "cell_type": "code",
      "metadata": {
        "colab": {
          "base_uri": "https://localhost:8080/"
        },
        "id": "oDJwfaQtbO63",
        "outputId": "8dbe684c-a28e-415e-a916-f3948a75315f"
      },
      "source": [
        "df.columns"
      ],
      "execution_count": null,
      "outputs": [
        {
          "output_type": "execute_result",
          "data": {
            "text/plain": [
              "Index(['budget', 'genres', 'id', 'imdb_id', 'original_language',\n",
              "       'original_title', 'overview', 'popularity', 'production_companies',\n",
              "       'production_countries', 'release_date', 'revenue', 'runtime',\n",
              "       'spoken_languages', 'status', 'tagline', 'title', 'vote_average',\n",
              "       'vote_count'],\n",
              "      dtype='object')"
            ]
          },
          "metadata": {
            "tags": []
          },
          "execution_count": 5
        }
      ]
    },
    {
      "cell_type": "markdown",
      "metadata": {
        "id": "sR_Akvu6afNE"
      },
      "source": [
        "## Cleaning Text Data"
      ]
    },
    {
      "cell_type": "code",
      "metadata": {
        "id": "jEQA8X7SbVfE"
      },
      "source": [
        "df['tagline'].fillna('', inplace=True)\r\n",
        "df['title'].fillna('', inplace=True)\r\n",
        "df['overview'].fillna('', inplace=True)"
      ],
      "execution_count": null,
      "outputs": []
    },
    {
      "cell_type": "code",
      "metadata": {
        "colab": {
          "base_uri": "https://localhost:8080/"
        },
        "id": "UwMQXdeTYX1P",
        "outputId": "8d9c052d-aae3-4951-8a64-477aecfcc872"
      },
      "source": [
        "df['text'] = df['tagline'] + df['title'] + df['overview']\r\n",
        "df['text'].isna().sum()"
      ],
      "execution_count": null,
      "outputs": [
        {
          "output_type": "execute_result",
          "data": {
            "text/plain": [
              "0"
            ]
          },
          "metadata": {
            "tags": []
          },
          "execution_count": 7
        }
      ]
    },
    {
      "cell_type": "code",
      "metadata": {
        "id": "pnmFjjpbb6az"
      },
      "source": [
        "tfidf = TfidfVectorizer(\r\n",
        "            min_df=1, \r\n",
        "            max_features=None, \r\n",
        "            strip_accents='unicode', \r\n",
        "            analyzer='word',\r\n",
        "            token_pattern=r'\\w{1,}',\r\n",
        "            ngram_range=(1, 3),\r\n",
        "            stop_words='english'\r\n",
        "        )"
      ],
      "execution_count": null,
      "outputs": []
    },
    {
      "cell_type": "code",
      "metadata": {
        "id": "-VPWAjsVdBnA"
      },
      "source": [
        "word_matrix = tfidf.fit_transform(df['text'])"
      ],
      "execution_count": null,
      "outputs": []
    },
    {
      "cell_type": "code",
      "metadata": {
        "colab": {
          "base_uri": "https://localhost:8080/"
        },
        "id": "xD5VPPN-dOyp",
        "outputId": "86c0a39b-ded0-4082-f98c-fbf63bd739fc"
      },
      "source": [
        "word_matrix.shape"
      ],
      "execution_count": null,
      "outputs": [
        {
          "output_type": "execute_result",
          "data": {
            "text/plain": [
              "(5001, 315374)"
            ]
          },
          "metadata": {
            "tags": []
          },
          "execution_count": 10
        }
      ]
    },
    {
      "cell_type": "markdown",
      "metadata": {
        "id": "weKiCshj-oUq"
      },
      "source": [
        "## Model Building"
      ]
    },
    {
      "cell_type": "code",
      "metadata": {
        "colab": {
          "base_uri": "https://localhost:8080/"
        },
        "id": "V5rNjpDMdQGf",
        "outputId": "108205f6-350c-421d-9cb2-0a003c830aab"
      },
      "source": [
        "sig = sigmoid_kernel(word_matrix, word_matrix)\r\n",
        "sig"
      ],
      "execution_count": null,
      "outputs": [
        {
          "output_type": "execute_result",
          "data": {
            "text/plain": [
              "array([[0.76159549, 0.76159416, 0.76159416, ..., 0.76159416, 0.76159416,\n",
              "        0.76159416],\n",
              "       [0.76159416, 0.76159549, 0.76159416, ..., 0.76159416, 0.76159416,\n",
              "        0.76159417],\n",
              "       [0.76159416, 0.76159416, 0.76159549, ..., 0.76159416, 0.76159416,\n",
              "        0.76159416],\n",
              "       ...,\n",
              "       [0.76159416, 0.76159416, 0.76159416, ..., 0.76159549, 0.76159416,\n",
              "        0.76159416],\n",
              "       [0.76159416, 0.76159416, 0.76159416, ..., 0.76159416, 0.76159549,\n",
              "        0.76159416],\n",
              "       [0.76159416, 0.76159417, 0.76159416, ..., 0.76159416, 0.76159416,\n",
              "        0.76159549]])"
            ]
          },
          "metadata": {
            "tags": []
          },
          "execution_count": 11
        }
      ]
    },
    {
      "cell_type": "code",
      "metadata": {
        "colab": {
          "base_uri": "https://localhost:8080/"
        },
        "id": "JF3FxKeJdmKT",
        "outputId": "0ca6ee76-1f1c-4737-c37b-e40195493c94"
      },
      "source": [
        "sig.shape"
      ],
      "execution_count": null,
      "outputs": [
        {
          "output_type": "execute_result",
          "data": {
            "text/plain": [
              "(5001, 5001)"
            ]
          },
          "metadata": {
            "tags": []
          },
          "execution_count": 12
        }
      ]
    },
    {
      "cell_type": "code",
      "metadata": {
        "id": "zlmZ0ewAeR6g"
      },
      "source": [
        "movie_indices = pd.Series(df.index, index=df['original_title'])"
      ],
      "execution_count": null,
      "outputs": []
    },
    {
      "cell_type": "code",
      "metadata": {
        "colab": {
          "base_uri": "https://localhost:8080/",
          "height": 355
        },
        "id": "UY1tHN-Ad2_4",
        "outputId": "692c8abb-4d62-4dba-c33a-8069d66b3940"
      },
      "source": [
        "def recommend(title):\r\n",
        "    idx = movie_indices[title]\r\n",
        "    sig_scores = list(enumerate(sig[idx]))\r\n",
        "    sig_scores = sorted(sig_scores, key=lambda x: x[1], reverse=True)\r\n",
        "    sig_scores = sig_scores[1: 11]\r\n",
        "    indices = [i[0] for i in sig_scores]\r\n",
        "    return df[['original_title', 'title']].iloc[indices]\r\n",
        "recommend('Inception')"
      ],
      "execution_count": null,
      "outputs": [
        {
          "output_type": "execute_result",
          "data": {
            "text/html": [
              "<div>\n",
              "<style scoped>\n",
              "    .dataframe tbody tr th:only-of-type {\n",
              "        vertical-align: middle;\n",
              "    }\n",
              "\n",
              "    .dataframe tbody tr th {\n",
              "        vertical-align: top;\n",
              "    }\n",
              "\n",
              "    .dataframe thead th {\n",
              "        text-align: right;\n",
              "    }\n",
              "</style>\n",
              "<table border=\"1\" class=\"dataframe\">\n",
              "  <thead>\n",
              "    <tr style=\"text-align: right;\">\n",
              "      <th></th>\n",
              "      <th>original_title</th>\n",
              "      <th>title</th>\n",
              "    </tr>\n",
              "  </thead>\n",
              "  <tbody>\n",
              "    <tr>\n",
              "      <th>4031</th>\n",
              "      <td>Cypher</td>\n",
              "      <td>Cypher</td>\n",
              "    </tr>\n",
              "    <tr>\n",
              "      <th>4195</th>\n",
              "      <td>Hollywoo</td>\n",
              "      <td>Hollywoo</td>\n",
              "    </tr>\n",
              "    <tr>\n",
              "      <th>3461</th>\n",
              "      <td>The Pink Panther</td>\n",
              "      <td>The Pink Panther</td>\n",
              "    </tr>\n",
              "    <tr>\n",
              "      <th>247</th>\n",
              "      <td>Mission: Impossible - Rogue Nation</td>\n",
              "      <td>Mission: Impossible - Rogue Nation</td>\n",
              "    </tr>\n",
              "    <tr>\n",
              "      <th>3836</th>\n",
              "      <td>What Ever Happened to Baby Jane?</td>\n",
              "      <td>What Ever Happened to Baby Jane?</td>\n",
              "    </tr>\n",
              "    <tr>\n",
              "      <th>4613</th>\n",
              "      <td>Frequencies</td>\n",
              "      <td>Frequencies</td>\n",
              "    </tr>\n",
              "    <tr>\n",
              "      <th>513</th>\n",
              "      <td>Pitch Perfect 2</td>\n",
              "      <td>Pitch Perfect 2</td>\n",
              "    </tr>\n",
              "    <tr>\n",
              "      <th>281</th>\n",
              "      <td>Hancock</td>\n",
              "      <td>Hancock</td>\n",
              "    </tr>\n",
              "    <tr>\n",
              "      <th>3743</th>\n",
              "      <td>Batman: Mask of the Phantasm</td>\n",
              "      <td>Batman: Mask of the Phantasm</td>\n",
              "    </tr>\n",
              "    <tr>\n",
              "      <th>1007</th>\n",
              "      <td>Once Upon a Time in America</td>\n",
              "      <td>Once Upon a Time in America</td>\n",
              "    </tr>\n",
              "  </tbody>\n",
              "</table>\n",
              "</div>"
            ],
            "text/plain": [
              "                          original_title                               title\n",
              "4031                              Cypher                              Cypher\n",
              "4195                            Hollywoo                            Hollywoo\n",
              "3461                    The Pink Panther                    The Pink Panther\n",
              "247   Mission: Impossible - Rogue Nation  Mission: Impossible - Rogue Nation\n",
              "3836    What Ever Happened to Baby Jane?    What Ever Happened to Baby Jane?\n",
              "4613                         Frequencies                         Frequencies\n",
              "513                      Pitch Perfect 2                     Pitch Perfect 2\n",
              "281                              Hancock                             Hancock\n",
              "3743        Batman: Mask of the Phantasm        Batman: Mask of the Phantasm\n",
              "1007         Once Upon a Time in America         Once Upon a Time in America"
            ]
          },
          "metadata": {
            "tags": []
          },
          "execution_count": 14
        }
      ]
    },
    {
      "cell_type": "code",
      "metadata": {
        "id": "WMurXl6oOfch"
      },
      "source": [
        "file = open('sig.sav', 'wb')\r\n",
        "pickle.dump(sig, file)"
      ],
      "execution_count": null,
      "outputs": []
    },
    {
      "cell_type": "code",
      "metadata": {
        "colab": {
          "base_uri": "https://localhost:8080/"
        },
        "id": "B6aM-iZiQmUy",
        "outputId": "0b9371bc-b7bb-42cb-b00e-a756e90ba312"
      },
      "source": [
        "pickle.load(open('sig.sav', 'rb'))"
      ],
      "execution_count": null,
      "outputs": [
        {
          "output_type": "execute_result",
          "data": {
            "text/plain": [
              "array([[0.76159549, 0.76159416, 0.76159416, ..., 0.76159416, 0.76159416,\n",
              "        0.76159416],\n",
              "       [0.76159416, 0.76159549, 0.76159416, ..., 0.76159416, 0.76159416,\n",
              "        0.76159417],\n",
              "       [0.76159416, 0.76159416, 0.76159549, ..., 0.76159416, 0.76159416,\n",
              "        0.76159416],\n",
              "       ...,\n",
              "       [0.76159416, 0.76159416, 0.76159416, ..., 0.76159549, 0.76159416,\n",
              "        0.76159416],\n",
              "       [0.76159416, 0.76159416, 0.76159416, ..., 0.76159416, 0.76159549,\n",
              "        0.76159416],\n",
              "       [0.76159416, 0.76159417, 0.76159416, ..., 0.76159416, 0.76159416,\n",
              "        0.76159549]])"
            ]
          },
          "metadata": {
            "tags": []
          },
          "execution_count": 16
        }
      ]
    },
    {
      "cell_type": "code",
      "metadata": {
        "id": "Pht_K1TEtaXC"
      },
      "source": [
        ""
      ],
      "execution_count": null,
      "outputs": []
    }
  ]
}