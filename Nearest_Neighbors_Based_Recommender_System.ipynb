{
  "nbformat": 4,
  "nbformat_minor": 0,
  "metadata": {
    "colab": {
      "name": "Nearest Neighbors Based Recommender System.ipynb",
      "provenance": [],
      "collapsed_sections": [
        "YZiqNzWwB_1P",
        "Ee2N5acwC-OB",
        "tsxN4lO_DDP-",
        "Uax07ywfEBIk",
        "A7x2DnmfEKrO",
        "E9WFQ2JpEgXa"
      ],
      "authorship_tag": "ABX9TyOkWhu7rXxQg3RDQ5Zh0BbO",
      "include_colab_link": true
    },
    "kernelspec": {
      "name": "python3",
      "display_name": "Python 3"
    }
  },
  "cells": [
    {
      "cell_type": "markdown",
      "metadata": {
        "id": "view-in-github",
        "colab_type": "text"
      },
      "source": [
        "<a href=\"https://colab.research.google.com/github/animesharma3/Movie-Recommendation/blob/main/Nearest_Neighbors_Based_Recommender_System.ipynb\" target=\"_parent\"><img src=\"https://colab.research.google.com/assets/colab-badge.svg\" alt=\"Open In Colab\"/></a>"
      ]
    },
    {
      "cell_type": "markdown",
      "metadata": {
        "id": "YZiqNzWwB_1P"
      },
      "source": [
        "## Importing Necessary Libraries"
      ]
    },
    {
      "cell_type": "code",
      "metadata": {
        "id": "c6NpnkJtPAgE"
      },
      "source": [
        "import pandas as pd\r\n",
        "import numpy as np\r\n",
        "import seaborn as sns\r\n",
        "import matplotlib.pyplot as plt\r\n",
        "\r\n",
        "from sklearn.neighbors import NearestNeighbors\r\n",
        "\r\n",
        "import pickle"
      ],
      "execution_count": 139,
      "outputs": []
    },
    {
      "cell_type": "markdown",
      "metadata": {
        "id": "Ee2N5acwC-OB"
      },
      "source": [
        "## Loading Dataset"
      ]
    },
    {
      "cell_type": "code",
      "metadata": {
        "colab": {
          "base_uri": "https://localhost:8080/",
          "height": 629
        },
        "id": "eU-vu2KEPOSr",
        "outputId": "01d208bd-baf6-4358-c16a-093939a7a502"
      },
      "source": [
        "url = 'https://raw.githubusercontent.com/animesharma3/Movie-Recommendation/main/movies_dataset.csv'\r\n",
        "df = pd.read_csv(url)\r\n",
        "df.head()"
      ],
      "execution_count": 140,
      "outputs": [
        {
          "output_type": "execute_result",
          "data": {
            "text/html": [
              "<div>\n",
              "<style scoped>\n",
              "    .dataframe tbody tr th:only-of-type {\n",
              "        vertical-align: middle;\n",
              "    }\n",
              "\n",
              "    .dataframe tbody tr th {\n",
              "        vertical-align: top;\n",
              "    }\n",
              "\n",
              "    .dataframe thead th {\n",
              "        text-align: right;\n",
              "    }\n",
              "</style>\n",
              "<table border=\"1\" class=\"dataframe\">\n",
              "  <thead>\n",
              "    <tr style=\"text-align: right;\">\n",
              "      <th></th>\n",
              "      <th>Unnamed: 0</th>\n",
              "      <th>Unnamed: 0.1</th>\n",
              "      <th>budget</th>\n",
              "      <th>genres</th>\n",
              "      <th>id</th>\n",
              "      <th>imdb_id</th>\n",
              "      <th>original_language</th>\n",
              "      <th>original_title</th>\n",
              "      <th>overview</th>\n",
              "      <th>popularity</th>\n",
              "      <th>production_companies</th>\n",
              "      <th>production_countries</th>\n",
              "      <th>release_date</th>\n",
              "      <th>revenue</th>\n",
              "      <th>runtime</th>\n",
              "      <th>spoken_languages</th>\n",
              "      <th>status</th>\n",
              "      <th>tagline</th>\n",
              "      <th>title</th>\n",
              "      <th>vote_average</th>\n",
              "      <th>vote_count</th>\n",
              "    </tr>\n",
              "  </thead>\n",
              "  <tbody>\n",
              "    <tr>\n",
              "      <th>0</th>\n",
              "      <td>0</td>\n",
              "      <td>15480</td>\n",
              "      <td>160000000</td>\n",
              "      <td>[{'id': 28, 'name': 'Action'}, {'id': 53, 'nam...</td>\n",
              "      <td>27205</td>\n",
              "      <td>tt1375666</td>\n",
              "      <td>en</td>\n",
              "      <td>Inception</td>\n",
              "      <td>Cobb, a skilled thief who commits corporate es...</td>\n",
              "      <td>29.108149</td>\n",
              "      <td>[{'name': 'Legendary Pictures', 'id': 923}, {'...</td>\n",
              "      <td>[{'iso_3166_1': 'GB', 'name': 'United Kingdom'...</td>\n",
              "      <td>2010-07-14</td>\n",
              "      <td>8.255328e+08</td>\n",
              "      <td>148.0</td>\n",
              "      <td>[{'iso_639_1': 'en', 'name': 'English'}]</td>\n",
              "      <td>Released</td>\n",
              "      <td>Your mind is the scene of the crime.</td>\n",
              "      <td>Inception</td>\n",
              "      <td>8.1</td>\n",
              "      <td>14075.0</td>\n",
              "    </tr>\n",
              "    <tr>\n",
              "      <th>1</th>\n",
              "      <td>1</td>\n",
              "      <td>12481</td>\n",
              "      <td>185000000</td>\n",
              "      <td>[{'id': 18, 'name': 'Drama'}, {'id': 28, 'name...</td>\n",
              "      <td>155</td>\n",
              "      <td>tt0468569</td>\n",
              "      <td>en</td>\n",
              "      <td>The Dark Knight</td>\n",
              "      <td>Batman raises the stakes in his war on crime. ...</td>\n",
              "      <td>123.167259</td>\n",
              "      <td>[{'name': 'DC Comics', 'id': 429}, {'name': 'L...</td>\n",
              "      <td>[{'iso_3166_1': 'GB', 'name': 'United Kingdom'...</td>\n",
              "      <td>2008-07-16</td>\n",
              "      <td>1.004558e+09</td>\n",
              "      <td>152.0</td>\n",
              "      <td>[{'iso_639_1': 'en', 'name': 'English'}, {'iso...</td>\n",
              "      <td>Released</td>\n",
              "      <td>Why So Serious?</td>\n",
              "      <td>The Dark Knight</td>\n",
              "      <td>8.3</td>\n",
              "      <td>12269.0</td>\n",
              "    </tr>\n",
              "    <tr>\n",
              "      <th>2</th>\n",
              "      <td>2</td>\n",
              "      <td>14551</td>\n",
              "      <td>237000000</td>\n",
              "      <td>[{'id': 28, 'name': 'Action'}, {'id': 12, 'nam...</td>\n",
              "      <td>19995</td>\n",
              "      <td>tt0499549</td>\n",
              "      <td>en</td>\n",
              "      <td>Avatar</td>\n",
              "      <td>In the 22nd century, a paraplegic Marine is di...</td>\n",
              "      <td>185.070892</td>\n",
              "      <td>[{'name': 'Ingenious Film Partners', 'id': 289...</td>\n",
              "      <td>[{'iso_3166_1': 'US', 'name': 'United States o...</td>\n",
              "      <td>2009-12-10</td>\n",
              "      <td>2.787965e+09</td>\n",
              "      <td>162.0</td>\n",
              "      <td>[{'iso_639_1': 'en', 'name': 'English'}, {'iso...</td>\n",
              "      <td>Released</td>\n",
              "      <td>Enter the World of Pandora.</td>\n",
              "      <td>Avatar</td>\n",
              "      <td>7.2</td>\n",
              "      <td>12114.0</td>\n",
              "    </tr>\n",
              "    <tr>\n",
              "      <th>3</th>\n",
              "      <td>3</td>\n",
              "      <td>17818</td>\n",
              "      <td>220000000</td>\n",
              "      <td>[{'id': 878, 'name': 'Science Fiction'}, {'id'...</td>\n",
              "      <td>24428</td>\n",
              "      <td>tt0848228</td>\n",
              "      <td>en</td>\n",
              "      <td>The Avengers</td>\n",
              "      <td>When an unexpected enemy emerges and threatens...</td>\n",
              "      <td>89.887648</td>\n",
              "      <td>[{'name': 'Paramount Pictures', 'id': 4}, {'na...</td>\n",
              "      <td>[{'iso_3166_1': 'US', 'name': 'United States o...</td>\n",
              "      <td>2012-04-25</td>\n",
              "      <td>1.519558e+09</td>\n",
              "      <td>143.0</td>\n",
              "      <td>[{'iso_639_1': 'en', 'name': 'English'}]</td>\n",
              "      <td>Released</td>\n",
              "      <td>Some assembly required.</td>\n",
              "      <td>The Avengers</td>\n",
              "      <td>7.4</td>\n",
              "      <td>12000.0</td>\n",
              "    </tr>\n",
              "    <tr>\n",
              "      <th>4</th>\n",
              "      <td>4</td>\n",
              "      <td>26564</td>\n",
              "      <td>58000000</td>\n",
              "      <td>[{'id': 28, 'name': 'Action'}, {'id': 12, 'nam...</td>\n",
              "      <td>293660</td>\n",
              "      <td>tt1431045</td>\n",
              "      <td>en</td>\n",
              "      <td>Deadpool</td>\n",
              "      <td>Deadpool tells the origin story of former Spec...</td>\n",
              "      <td>187.860492</td>\n",
              "      <td>[{'name': 'Twentieth Century Fox Film Corporat...</td>\n",
              "      <td>[{'iso_3166_1': 'US', 'name': 'United States o...</td>\n",
              "      <td>2016-02-09</td>\n",
              "      <td>7.831130e+08</td>\n",
              "      <td>108.0</td>\n",
              "      <td>[{'iso_639_1': 'en', 'name': 'English'}]</td>\n",
              "      <td>Released</td>\n",
              "      <td>Witness the beginning of a happy ending</td>\n",
              "      <td>Deadpool</td>\n",
              "      <td>7.4</td>\n",
              "      <td>11444.0</td>\n",
              "    </tr>\n",
              "  </tbody>\n",
              "</table>\n",
              "</div>"
            ],
            "text/plain": [
              "   Unnamed: 0  Unnamed: 0.1  ...  vote_average vote_count\n",
              "0           0         15480  ...           8.1    14075.0\n",
              "1           1         12481  ...           8.3    12269.0\n",
              "2           2         14551  ...           7.2    12114.0\n",
              "3           3         17818  ...           7.4    12000.0\n",
              "4           4         26564  ...           7.4    11444.0\n",
              "\n",
              "[5 rows x 21 columns]"
            ]
          },
          "metadata": {
            "tags": []
          },
          "execution_count": 140
        }
      ]
    },
    {
      "cell_type": "markdown",
      "metadata": {
        "id": "tsxN4lO_DDP-"
      },
      "source": [
        "## Data Preprocessing"
      ]
    },
    {
      "cell_type": "markdown",
      "metadata": {
        "id": "LabOSeiZDN6y"
      },
      "source": [
        "### Removing Unnecessary Features"
      ]
    },
    {
      "cell_type": "code",
      "metadata": {
        "id": "uYxPUlCMPTw5"
      },
      "source": [
        "df.drop(df.columns[:2].values.tolist(), axis=1, inplace=True)"
      ],
      "execution_count": 141,
      "outputs": []
    },
    {
      "cell_type": "code",
      "metadata": {
        "colab": {
          "base_uri": "https://localhost:8080/"
        },
        "id": "xt7169-8QETS",
        "outputId": "b8b7db1a-b15c-4b88-cae1-e3baac4e0a64"
      },
      "source": [
        "df.columns"
      ],
      "execution_count": 142,
      "outputs": [
        {
          "output_type": "execute_result",
          "data": {
            "text/plain": [
              "Index(['budget', 'genres', 'id', 'imdb_id', 'original_language',\n",
              "       'original_title', 'overview', 'popularity', 'production_companies',\n",
              "       'production_countries', 'release_date', 'revenue', 'runtime',\n",
              "       'spoken_languages', 'status', 'tagline', 'title', 'vote_average',\n",
              "       'vote_count'],\n",
              "      dtype='object')"
            ]
          },
          "metadata": {
            "tags": []
          },
          "execution_count": 142
        }
      ]
    },
    {
      "cell_type": "code",
      "metadata": {
        "id": "HxLffsF9PZeN"
      },
      "source": [
        "features = ['budget', 'popularity', 'revenue', 'runtime', 'status', 'vote_average', 'vote_count']\r\n",
        "final_df = df[features].copy()"
      ],
      "execution_count": 143,
      "outputs": []
    },
    {
      "cell_type": "markdown",
      "metadata": {
        "id": "vC9frj1LDwzp"
      },
      "source": [
        "### Missing Values"
      ]
    },
    {
      "cell_type": "code",
      "metadata": {
        "colab": {
          "base_uri": "https://localhost:8080/"
        },
        "id": "QMLF435ISNpw",
        "outputId": "676d01b9-6a2a-473e-c885-df354237e111"
      },
      "source": [
        "final_df.isna().sum()"
      ],
      "execution_count": 144,
      "outputs": [
        {
          "output_type": "execute_result",
          "data": {
            "text/plain": [
              "budget           0\n",
              "popularity       0\n",
              "revenue          0\n",
              "runtime         28\n",
              "status          12\n",
              "vote_average     0\n",
              "vote_count       0\n",
              "dtype: int64"
            ]
          },
          "metadata": {
            "tags": []
          },
          "execution_count": 144
        }
      ]
    },
    {
      "cell_type": "code",
      "metadata": {
        "id": "-EwipLzFSasz"
      },
      "source": [
        "final_df.dropna(inplace=True)"
      ],
      "execution_count": 145,
      "outputs": []
    },
    {
      "cell_type": "code",
      "metadata": {
        "colab": {
          "base_uri": "https://localhost:8080/"
        },
        "id": "CaGgcw-jSzY9",
        "outputId": "69aa957f-3c78-401c-e538-09c8583d1d54"
      },
      "source": [
        "final_df.isna().sum()"
      ],
      "execution_count": 146,
      "outputs": [
        {
          "output_type": "execute_result",
          "data": {
            "text/plain": [
              "budget          0\n",
              "popularity      0\n",
              "revenue         0\n",
              "runtime         0\n",
              "status          0\n",
              "vote_average    0\n",
              "vote_count      0\n",
              "dtype: int64"
            ]
          },
          "metadata": {
            "tags": []
          },
          "execution_count": 146
        }
      ]
    },
    {
      "cell_type": "markdown",
      "metadata": {
        "id": "HsohfUOXD1cw"
      },
      "source": [
        "### Categorical Encoding -  One Hot Encoding"
      ]
    },
    {
      "cell_type": "code",
      "metadata": {
        "id": "TeCfKVuORjcX"
      },
      "source": [
        "final_df = pd.get_dummies(final_df)"
      ],
      "execution_count": 147,
      "outputs": []
    },
    {
      "cell_type": "code",
      "metadata": {
        "colab": {
          "base_uri": "https://localhost:8080/"
        },
        "id": "rLdaG9Tmzyth",
        "outputId": "421936bc-81fe-4fa0-8c90-cd22e32f00f1"
      },
      "source": [
        "final_df.columns"
      ],
      "execution_count": 148,
      "outputs": [
        {
          "output_type": "execute_result",
          "data": {
            "text/plain": [
              "Index(['budget', 'popularity', 'revenue', 'runtime', 'vote_average',\n",
              "       'vote_count', 'status_In Production', 'status_Planned',\n",
              "       'status_Post Production', 'status_Released', 'status_Rumored'],\n",
              "      dtype='object')"
            ]
          },
          "metadata": {
            "tags": []
          },
          "execution_count": 148
        }
      ]
    },
    {
      "cell_type": "markdown",
      "metadata": {
        "id": "Uax07ywfEBIk"
      },
      "source": [
        "## Model Building"
      ]
    },
    {
      "cell_type": "code",
      "metadata": {
        "colab": {
          "base_uri": "https://localhost:8080/"
        },
        "id": "iSxw_LTTRqLH",
        "outputId": "3a3ca599-2cf1-46c8-8dd7-f838b482b5f5"
      },
      "source": [
        "neigh = NearestNeighbors(metric='cosine', algorithm='brute', n_neighbors=20)\r\n",
        "neigh.fit(final_df.values)"
      ],
      "execution_count": 149,
      "outputs": [
        {
          "output_type": "execute_result",
          "data": {
            "text/plain": [
              "NearestNeighbors(algorithm='brute', leaf_size=30, metric='cosine',\n",
              "                 metric_params=None, n_jobs=None, n_neighbors=20, p=2,\n",
              "                 radius=1.0)"
            ]
          },
          "metadata": {
            "tags": []
          },
          "execution_count": 149
        }
      ]
    },
    {
      "cell_type": "code",
      "metadata": {
        "colab": {
          "base_uri": "https://localhost:8080/"
        },
        "id": "aOtbruwpSF2T",
        "outputId": "4cc0f337-ad89-4dc8-bf04-a82c43a25657"
      },
      "source": [
        "test = final_df.iloc[0].values.reshape(1,-1)\r\n",
        "print(test)"
      ],
      "execution_count": 150,
      "outputs": [
        {
          "output_type": "stream",
          "text": [
            "[[1.60000000e+08 2.91081490e+01 8.25532764e+08 1.48000000e+02\n",
            "  8.10000000e+00 1.40750000e+04 0.00000000e+00 0.00000000e+00\n",
            "  0.00000000e+00 1.00000000e+00 0.00000000e+00]]\n"
          ],
          "name": "stdout"
        }
      ]
    },
    {
      "cell_type": "markdown",
      "metadata": {
        "id": "A7x2DnmfEKrO"
      },
      "source": [
        "## Recommendation"
      ]
    },
    {
      "cell_type": "code",
      "metadata": {
        "colab": {
          "base_uri": "https://localhost:8080/"
        },
        "id": "h7DV65eoUalJ",
        "outputId": "81b21ba8-d146-418b-a7f1-8f5a1fb9faa3"
      },
      "source": [
        "ind = neigh.kneighbors(test, return_distance=False)\r\n",
        "ind"
      ],
      "execution_count": 151,
      "outputs": [
        {
          "output_type": "execute_result",
          "data": {
            "text/plain": [
              "array([[    0,   558, 22648,  5546, 15667,   153,  3081,  3587,  2006,\n",
              "         1973,  4703,   147,   117,  8126,   937,   615, 10686, 13153,\n",
              "          268,   323]])"
            ]
          },
          "metadata": {
            "tags": []
          },
          "execution_count": 151
        }
      ]
    },
    {
      "cell_type": "code",
      "metadata": {
        "colab": {
          "base_uri": "https://localhost:8080/"
        },
        "id": "jzgTnUckUilg",
        "outputId": "771bc58f-5c70-4d18-c3b9-ccd65854faed"
      },
      "source": [
        "df.iloc[ind[0][1:]]['title']"
      ],
      "execution_count": 152,
      "outputs": [
        {
          "output_type": "execute_result",
          "data": {
            "text/plain": [
              "558      Madagascar 3: Europe's Most Wanted\n",
              "22648     The Romance of Astrea and Celadon\n",
              "5546                            Whale Rider\n",
              "15667                    The Storm Warriors\n",
              "153                            Finding Dory\n",
              "3081                           Urban Legend\n",
              "3587                           The Enforcer\n",
              "2006                                    JFK\n",
              "1973                Spy Kids 3-D: Game Over\n",
              "4703                          Shin Godzilla\n",
              "147          Rise of the Planet of the Apes\n",
              "117                     Alice in Wonderland\n",
              "8126           Iron Man: Rise of Technovore\n",
              "937                              The Smurfs\n",
              "615                                The Ring\n",
              "10686                      The Intervention\n",
              "13153             SAGA: Curse of the Shadow\n",
              "268         Transformers: Age of Extinction\n",
              "323                               The Mummy\n",
              "Name: title, dtype: object"
            ]
          },
          "metadata": {
            "tags": []
          },
          "execution_count": 152
        }
      ]
    },
    {
      "cell_type": "markdown",
      "metadata": {
        "id": "E9WFQ2JpEgXa"
      },
      "source": [
        "## Deployment"
      ]
    },
    {
      "cell_type": "code",
      "metadata": {
        "id": "xssCIf5DUsnq"
      },
      "source": [
        "filename = open('nneighbors_model', 'wb')\r\n",
        "pickle.dump(neigh, filename)"
      ],
      "execution_count": 153,
      "outputs": []
    },
    {
      "cell_type": "code",
      "metadata": {
        "id": "EfH3RfkGV6No"
      },
      "source": [
        "model = pickle.load(open('nneighbors_model', 'rb'))"
      ],
      "execution_count": 154,
      "outputs": []
    },
    {
      "cell_type": "code",
      "metadata": {
        "id": "KVA1LKe1WEYZ"
      },
      "source": [
        "def recommend(movie_data):\r\n",
        "    data = movie_data.values.reshape(1,-1)\r\n",
        "    ind = model.kneighbors(data, return_distance=False)\r\n",
        "    recommendations = df.iloc[ind[0][1:]]['title']\r\n",
        "    return recommendations"
      ],
      "execution_count": 155,
      "outputs": []
    },
    {
      "cell_type": "code",
      "metadata": {
        "colab": {
          "base_uri": "https://localhost:8080/"
        },
        "id": "SBJUveqAW_Aw",
        "outputId": "134c4d57-065a-4d16-92b5-e9c10f2e1389"
      },
      "source": [
        "recommend(final_df.iloc[1])"
      ],
      "execution_count": 156,
      "outputs": [
        {
          "output_type": "execute_result",
          "data": {
            "text/plain": [
              "20463                         All This, and Heaven Too\n",
              "7994                                           Top Hat\n",
              "10469                      A Thousand Times Good Night\n",
              "4835                                       Next Friday\n",
              "8507                             The End of the Affair\n",
              "1114                                               Elf\n",
              "2482                                      Heartbreaker\n",
              "1034                                             Babel\n",
              "173       Star Wars: Episode II - Attack of the Clones\n",
              "4919                                           Quartet\n",
              "20349                 Ali Zaoua: Prince of the Streets\n",
              "1366                                          Movie 43\n",
              "2471                                    Cool Hand Luke\n",
              "2791     Pokémon: The First Movie: Mewtwo Strikes Back\n",
              "222                           The Fast and the Furious\n",
              "12390                                            Julia\n",
              "468                                           Predator\n",
              "1118                                    The Ugly Truth\n",
              "1074                                          Superman\n",
              "Name: title, dtype: object"
            ]
          },
          "metadata": {
            "tags": []
          },
          "execution_count": 156
        }
      ]
    },
    {
      "cell_type": "code",
      "metadata": {
        "id": "nakwv1jKXIJM"
      },
      "source": [
        "def recommend1(title, df):\r\n",
        "    features = ['budget', 'popularity', 'revenue', 'runtime', 'status', 'vote_average', 'vote_count', 'title']\r\n",
        "    final_df = df[features].copy()\r\n",
        "    final_df.dropna(inplace=True)\r\n",
        "    final_df = pd.get_dummies(final_df, columns=['status'])\r\n",
        "    data = final_df[final_df['title'] == title][['budget', 'popularity', 'revenue', 'runtime', 'vote_average', 'vote_count','status_In Production', 'status_Planned', 'status_Post Production', 'status_Released', 'status_Rumored']].values\r\n",
        "    ind = model.kneighbors(data, return_distance=False)\r\n",
        "    print(df.iloc[ind[0]]['title'])\r\n",
        "    # print(ind)"
      ],
      "execution_count": 174,
      "outputs": []
    },
    {
      "cell_type": "code",
      "metadata": {
        "colab": {
          "base_uri": "https://localhost:8080/"
        },
        "id": "kg78axoq3orp",
        "outputId": "6c378a6d-c3f8-4862-a213-ed1bc19a955a"
      },
      "source": [
        "title = df['title'].iloc[0]\r\n",
        "recommend1(title=title, df=df)"
      ],
      "execution_count": 175,
      "outputs": [
        {
          "output_type": "stream",
          "text": [
            "0                                 Inception\n",
            "558      Madagascar 3: Europe's Most Wanted\n",
            "22648     The Romance of Astrea and Celadon\n",
            "5546                            Whale Rider\n",
            "15667                    The Storm Warriors\n",
            "153                            Finding Dory\n",
            "3081                           Urban Legend\n",
            "3587                           The Enforcer\n",
            "2006                                    JFK\n",
            "1973                Spy Kids 3-D: Game Over\n",
            "4703                          Shin Godzilla\n",
            "147          Rise of the Planet of the Apes\n",
            "117                     Alice in Wonderland\n",
            "8126           Iron Man: Rise of Technovore\n",
            "937                              The Smurfs\n",
            "615                                The Ring\n",
            "10686                      The Intervention\n",
            "13153             SAGA: Curse of the Shadow\n",
            "268         Transformers: Age of Extinction\n",
            "323                               The Mummy\n",
            "Name: title, dtype: object\n"
          ],
          "name": "stdout"
        }
      ]
    },
    {
      "cell_type": "code",
      "metadata": {
        "id": "SE91Oo_K4Vac"
      },
      "source": [
        ""
      ],
      "execution_count": null,
      "outputs": []
    }
  ]
}